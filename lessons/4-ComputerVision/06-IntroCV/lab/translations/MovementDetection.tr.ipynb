{
 "cells": [
  {
   "cell_type": "markdown",
   "metadata": {},
   "source": [
    "## Optik Akış Kullanarak Avuç İçi Hareket Algılama\n",
    "\n",
    "Bu not defteri, [Yeni Başlayanlar için YZ Müfredatı](http://github.com/microsoft/ai-for-beginners)'nın bir parçasıdır.\n",
    "\n",
    "Bir kişinin avucunun sabit bir arka plan üzerinde sola/sağa/yukarı/aşağı hareket ettiği [bu videoyu](../palm-movement.mp4) düşünün.\n",
    "\n",
    "<img src=\"../../images/palm-movement.png\" width=\"30%\" alt=\"Avuç içi Hareket Karesi\"/>\n",
    "\n",
    "**Amacınız**, videonun hangi bölümlerinin yukarı/aşağı/sola/sağ hareketler içerdiğini belirlemek için Optik Akışı kullanmak olacaktır.\n",
    "\n",
    "Derste açıklandığı gibi video karelerini alarak başlayın:"
   ]
  },
  {
   "cell_type": "code",
   "execution_count": null,
   "metadata": {},
   "outputs": [],
   "source": [
    "# Buraya kodlayın"
   ]
  },
  {
   "cell_type": "markdown",
   "metadata": {},
   "source": [
    "Şimdi derste açıklandığı gibi yoğun optik akış karelerini hesaplayın ve yoğun optik akışı kutupsal koordinatlara dönüştürün:"
   ]
  },
  {
   "cell_type": "code",
   "execution_count": null,
   "metadata": {},
   "outputs": [],
   "source": [
    "# Buraya kodlayın"
   ]
  },
  {
   "cell_type": "markdown",
   "metadata": {},
   "source": [
    "Optik akış karelerinin her biri için yön histogramı oluşturun. Bir histogram, belirli bir bölmenin altına kaç vektörün düştüğünü gösterir ve kare üzerindeki farklı hareket yönlerini ayırmalıdır.\n",
    "\n",
    "> Büyüklüğü belirli bir eşiğin altında olan tüm vektörleri de sıfırlamak isteyebilirsiniz. Bu, videodaki gözlerdeki ve baştaki gibi küçük fazladan hareketlerden kurtulacaktır.\n",
    "\n",
    "Bazı kareler için histogramları çizin."
   ]
  },
  {
   "cell_type": "code",
   "execution_count": null,
   "metadata": {},
   "outputs": [],
   "source": [
    "# Buraya kodlayın"
   ]
  },
  {
   "cell_type": "markdown",
   "metadata": {},
   "source": [
    "Histogramlara bakıldığında, hareket yönünün nasıl belirleneceği oldukça basit olmalıdır. Yukarı/aşağı/sol/sağ yönlere karşılık gelen ve belirli bir eşiğin üzerinde olan bölmeleri seçmeniz gerekir."
   ]
  },
  {
   "cell_type": "code",
   "execution_count": null,
   "metadata": {},
   "outputs": [],
   "source": [
    "# Buraya kodlayın"
   ]
  },
  {
   "cell_type": "markdown",
   "metadata": {},
   "source": [
    "Tebrikler! Yukarıdaki tüm adımları yaptıysanız, laboratuvarı tamamladınız demektir!"
   ]
  }
 ],
 "metadata": {
  "kernelspec": {
   "display_name": "Python 3 (ipykernel)",
   "language": "python",
   "name": "python3"
  },
  "language_info": {
   "codemirror_mode": {
    "name": "ipython",
    "version": 3
   },
   "file_extension": ".py",
   "mimetype": "text/x-python",
   "name": "python",
   "nbconvert_exporter": "python",
   "pygments_lexer": "ipython3",
   "version": "3.9.15"
  }
 },
 "nbformat": 4,
 "nbformat_minor": 4
}
